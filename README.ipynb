{
 "cells": [
  {
   "cell_type": "markdown",
   "metadata": {},
   "source": [
    "# Dinner Roller\n",
    "\n",
    "This little project is designed to create a random roller to select a dinner option for a potential date night. My girlfriend and I frequently cannot decide where to go, so we came up with these lists to allow us to roll dice to select. This project can be used both with physical dice, or by using the random rolling options within the program here.\n",
    "\n",
    "Note: Many of the restaurants show up multiple times in multiple lists. This is due to those restaurants having a varied menu. Because of this, the idea is that you must select something at that restaurant from the category that was originally rolled. For example, Kerbey Lane Cafe shows up in Breakfast, American, Bakery/Cafe, and Burgers, so if you rolled Kerbey Lane in Breakfast, you would need to order something from their breakfast menu, while if you rolled it within Burgers, you would have to order a burger.\n",
    "\n",
    "Second Note: Something New is pretty self-explanatory, it means ya'll get to go somewhere that neither of you have been before. Who knows, you might find a place you both really like!\n",
    "\n",
    "Final Note: These lists were created for the North Austin Texas area. If you want to change the lists, you can clone your own copy of this repository and change the lists within the lists.py file."
   ]
  },
  {
   "cell_type": "code",
   "execution_count": 1,
   "metadata": {},
   "outputs": [],
   "source": [
    "from lists import *\n",
    "import random"
   ]
  },
  {
   "cell_type": "code",
   "execution_count": null,
   "metadata": {},
   "outputs": [
    {
     "name": "stdout",
     "output_type": "stream",
     "text": [
      "Please enter your 20-sided die roll, or enter 'Roll' to have a number selected for you: 8\n",
      "Your roll was 8, which means your category is ['Cotton Patch Cafe', 'Texan Cafe & Pie Shop', 'Kerbey Lane Cafe'],\n",
      "and your restaurant is Cotton Patch Cafe, enjoy!\n",
      "Roll again? y/n: y\n",
      "Please enter your 20-sided die roll, or enter 'Roll' to have a number selected for you: 1\n",
      "You rolled a 1, a critical failure! Your restaurant is Star Buffet, good luck!\n",
      "Roll again? y/n: y\n",
      "Please enter your 20-sided die roll, or enter 'Roll' to have a number selected for you: 20\n",
      "You rolled a 20, a critical success! Your restaurant is Cheesecake Factory, good luck!\n"
     ]
    }
   ],
   "source": [
    "while True:\n",
    "    selection = input(\"Please enter your 20-sided die roll, or enter 'Roll' to have a number selected for you: \")\n",
    "    if selection.lower() == 'roll':\n",
    "        selection = int(random.randint(1, 20))\n",
    "    else:\n",
    "        selection = int(selection)\n",
    "    \n",
    "    if selection == 2:\n",
    "        total = [place for place in item for item in lists]\n",
    "        rand_selection = random.randint(0, len(total)-1)\n",
    "        print('You rolled a 2, which is a random choice from all of them!')\n",
    "        print(f'Your restaurant for tonight is {total[rand_selection]}, enjoy!')\n",
    "    elif selection == 1:\n",
    "        print(f'You rolled a 1, a critical failure! Your restaurant is {main.get(selection)}, good luck!')\n",
    "    elif selection == 20:\n",
    "        print(f'You rolled a 20, a critical success! Your restaurant is {main.get(selection)}, good luck!')\n",
    "    elif selection == 10:\n",
    "        print('You rolled a 10, that means you get to go somewhere new! Hope you enjoy it!')\n",
    "    else:\n",
    "        new_selection = random.randint(0, len(main.get(selection)))\n",
    "        category = str(main.get(selection)).title().replace('_', ' ')\n",
    "        if category == 'Bakery Cafe':\n",
    "            category = category.replace(' ', '/')\n",
    "        print(f'Your roll was {selection}, which means your category is {str(category)},')\n",
    "        print(f'and your restaurant is {main.get(selection)[new_selection]}, enjoy!')\n",
    "    if input('Roll again? y/n: ') == 'n':\n",
    "        break\n",
    "    else:\n",
    "        continue"
   ]
  },
  {
   "cell_type": "code",
   "execution_count": null,
   "metadata": {},
   "outputs": [],
   "source": [
    "print(lists.index('breakfast'))"
   ]
  },
  {
   "cell_type": "code",
   "execution_count": null,
   "metadata": {},
   "outputs": [],
   "source": []
  }
 ],
 "metadata": {
  "kernelspec": {
   "display_name": "learn-env",
   "language": "python",
   "name": "learn-env"
  },
  "language_info": {
   "codemirror_mode": {
    "name": "ipython",
    "version": 3
   },
   "file_extension": ".py",
   "mimetype": "text/x-python",
   "name": "python",
   "nbconvert_exporter": "python",
   "pygments_lexer": "ipython3",
   "version": "3.6.6"
  }
 },
 "nbformat": 4,
 "nbformat_minor": 2
}
